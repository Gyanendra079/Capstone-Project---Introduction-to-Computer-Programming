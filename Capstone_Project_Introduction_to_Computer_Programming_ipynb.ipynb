{
  "nbformat": 4,
  "nbformat_minor": 0,
  "metadata": {
    "colab": {
      "provenance": [],
      "authorship_tag": "ABX9TyMaJdQLVPZA75xmJzGqUbnH",
      "include_colab_link": true
    },
    "kernelspec": {
      "name": "python3",
      "display_name": "Python 3"
    },
    "language_info": {
      "name": "python"
    }
  },
  "cells": [
    {
      "cell_type": "markdown",
      "metadata": {
        "id": "view-in-github",
        "colab_type": "text"
      },
      "source": [
        "<a href=\"https://colab.research.google.com/github/Gyanendra079/Capstone-Project---Introduction-to-Computer-Programming/blob/main/Capstone_Project_Introduction_to_Computer_Programming_ipynb.ipynb\" target=\"_parent\"><img src=\"https://colab.research.google.com/assets/colab-badge.svg\" alt=\"Open In Colab\"/></a>"
      ]
    },
    {
      "cell_type": "markdown",
      "source": [
        "# **Introduction to Python Programming**"
      ],
      "metadata": {
        "id": "XIj_QdatBQTt"
      }
    },
    {
      "cell_type": "markdown",
      "source": [
        "## Score Board Operator\n",
        "An operator working behind the scoreboard of a inter cohort AlmaBetter cricket tournament, is responsible for updating the scores and points of each team. However, the operator is currently facing a challenge. He has been tasked with updating the total number of points gained by Team London, but he does not possess the necessary programming skills to complete this task.\n",
        "According to the tournament's rules, teams are awarded the following points based on the outcome of a match:\n",
        "\n",
        "* wins: 3 points\n",
        "* draws: 1 point\n",
        "* losses: 0 points\n",
        "\n",
        "\n",
        "\n",
        "\n",
        "Team London has played **8 matches** in this tournament. They won **4 matches**, lost **3 matches** and **drew 1**.\n",
        "The operator is in need of assistance to calculate the total number of points earned by Team London. As a python expert adept with knowledge of integer, floats and boolean, you can help the operator by writing a solution for the following problem.\n",
        "\n",
        "What would your approach be?"
      ],
      "metadata": {
        "id": "dCSH8MhBRTW7"
      }
    },
    {
      "cell_type": "code",
      "source": [
        "# Define the points for different outcomes\n",
        "points_for_win = 3\n",
        "points_for_draw = 1\n",
        "points_for_loss = 0\n",
        "\n",
        "# Count the number of wins, draws, and losses\n",
        "wins = 4\n",
        "draws = 1\n",
        "losses = 3\n",
        "\n",
        "# Calculate the total points\n",
        "total_points = (wins * points_for_win) + (draws * points_for_draw) + (losses * points_for_loss)\n",
        "\n",
        "# Print the total points earned by Team London\n",
        "print(\"Total points earned by Team London:\", total_points)"
      ],
      "metadata": {
        "id": "dmX4SiGBigC6",
        "colab": {
          "base_uri": "https://localhost:8080/"
        },
        "outputId": "5451bd02-5d15-4809-e2f7-cf5778a0e4a3"
      },
      "execution_count": 1,
      "outputs": [
        {
          "output_type": "stream",
          "name": "stdout",
          "text": [
            "Total points earned by Team London: 13\n"
          ]
        }
      ]
    },
    {
      "cell_type": "markdown",
      "source": [
        "## Space and Time Complexity\n",
        " Time complexity of O(1) and a space complexity of O(1) because it performs a fixed number of operations and uses a fixed amount of memory regardless of the input values."
      ],
      "metadata": {
        "id": "sqlBInwKddaC"
      }
    },
    {
      "cell_type": "markdown",
      "source": [
        "## Nutrition bar ingredient chart\n",
        "\n",
        "Imagine you are a data analyst at a nutrition bar manufacturing company. Your department head approaches you with a question. The company produces a nutrition bar that contains **45g of raisins, 65g of almonds, and 30g of apricots**. The head of the manufacturing department wants you to create an ingredient percentage list for the nutrition bar using python.\n",
        "\n",
        "Equipped with the knowledge of int, float and booleans in python, how would you approach this situation?"
      ],
      "metadata": {
        "id": "qEICqapxUkVB"
      }
    },
    {
      "cell_type": "code",
      "source": [
        "# Define the weights of each ingredient in grams\n",
        "weight_raisins = 45\n",
        "weight_almonds = 65\n",
        "weight_apricots = 30\n",
        "\n",
        "# Calculate the total weight of all ingredients\n",
        "total_weight = weight_raisins + weight_almonds + weight_apricots\n",
        "\n",
        "# Calculate the percentage of each ingredient\n",
        "percentage_raisins = (weight_raisins / total_weight) * 100\n",
        "percentage_almonds = (weight_almonds / total_weight) * 100\n",
        "percentage_apricots = (weight_apricots / total_weight) * 100\n",
        "\n",
        "# Print the ingredient percentages\n",
        "print(\"Ingredient Percentage List:\")\n",
        "print(\"Raisins:\", round(percentage_raisins,2),\"%\")\n",
        "print(\"Almonds:\", round(percentage_almonds,2), \"%\")\n",
        "print(\"Apricots:\", round(percentage_apricots,2), \"%\")"
      ],
      "metadata": {
        "id": "r-3d1ui9iyFq",
        "colab": {
          "base_uri": "https://localhost:8080/"
        },
        "outputId": "dcb8c8d6-988e-4b0c-c529-fbd54f7fbe34"
      },
      "execution_count": 2,
      "outputs": [
        {
          "output_type": "stream",
          "name": "stdout",
          "text": [
            "Ingredient Percentage List:\n",
            "Raisins: 32.14 %\n",
            "Almonds: 46.43 %\n",
            "Apricots: 21.43 %\n"
          ]
        }
      ]
    },
    {
      "cell_type": "markdown",
      "source": [
        "## Space and Time Complexity\n",
        "A time complexity of O(1) and a space complexity of O(1) because it performs a fixed number of operations and uses a fixed amount of memory regardless of the input values."
      ],
      "metadata": {
        "id": "_OVtyKo3dwzh"
      }
    },
    {
      "cell_type": "markdown",
      "source": [
        "## Measuring the Accuracy of a Disease Detection Model- Optional\n",
        "\n",
        "If you're not impressed with these usecases yet, understand that you're just getting started with python. Going forward as a data scientist, you'll be using what you've learned to design machine learning models that just might even save lives!!\n",
        "\n",
        "Let's say you have created a machine learning model to detect diseases in patients based on their symptoms and medical history. The model has been tested on a dataset of **100 patients**, including **30 with diabetes**, **45 with heart disease**, and **25 with cancer**.\n",
        "The model's performance was evaluated in three rounds.\n",
        "In the first round, the model correctly **detected diabetes in 25 out of the 30 patients** with the disease.\n",
        "In the second round, the model correctly detected **heart disease in 35 out of the 45 patients** with the disease.\n",
        "In the final round, the model correctly **detected cancer in 20 out of the 25 patients** with the disease.\n",
        "\n",
        "The model's accuracy is defined as the percentage of correctly detected cases out of the total number of patient\n",
        "\n",
        "Assess how accurate your model is across these 3 diseases.\n"
      ],
      "metadata": {
        "id": "9Y3kSoUHVOGj"
      }
    },
    {
      "cell_type": "code",
      "source": [
        "# Define the number of patients with each disease\n",
        "patients_diabetes = 30\n",
        "patients_heart_disease = 45\n",
        "patients_cancer = 25\n",
        "\n",
        "# Define the number of correctly detected cases for each disease\n",
        "correctly_detected_diabetes = 25\n",
        "correctly_detected_heart_disease = 35\n",
        "correctly_detected_cancer = 20\n",
        "\n",
        "# Calculate the accuracy for each disease\n",
        "accuracy_diabetes = (correctly_detected_diabetes / patients_diabetes) * 100\n",
        "accuracy_heart_disease = (correctly_detected_heart_disease / patients_heart_disease) * 100\n",
        "accuracy_cancer = (correctly_detected_cancer / patients_cancer) * 100"
      ],
      "metadata": {
        "id": "MWgzkJKijEJC"
      },
      "execution_count": 3,
      "outputs": []
    },
    {
      "cell_type": "markdown",
      "source": [
        "##Space and Time Complexity\n",
        "Time complexity of O(1) and a space complexity of O(1) because it performs a fixed number of operations and uses a fixed amount of memory regardless of the input values."
      ],
      "metadata": {
        "id": "hzA3j0wpeyDT"
      }
    },
    {
      "cell_type": "markdown",
      "source": [
        "# **Data Types in Python**"
      ],
      "metadata": {
        "id": "AzbS5w7QB28m"
      }
    },
    {
      "cell_type": "markdown",
      "source": [
        "You must remember the algebraic equations and functions you came across during your school days. If you do, you also must remember how tedious it was to do solve them manually. 😫\n",
        "Consider a quadratic function:\n",
        "\n",
        "***f(x)=x^2+3x-4***\n",
        "\n",
        "Find the value of f(x) at x =3 , x=-2, and x=4\n",
        "\n",
        "Doing this manually like the old days would be a tedious job 😞. But now you have python at your disposal 🙂 !\n",
        "How would you approach this problem using what you have learned?\n"
      ],
      "metadata": {
        "id": "_qhDAZQsSvPv"
      }
    },
    {
      "cell_type": "code",
      "metadata": {
        "id": "4_HZwes5Delh"
      },
      "source": [
        "# Calculate the value of the function f(x) at x = 3\n",
        "func_evaluated_at_3 = 3**2 + 3*3 - 4"
      ],
      "execution_count": 4,
      "outputs": []
    },
    {
      "cell_type": "code",
      "metadata": {
        "id": "uD4MAyKIDelo"
      },
      "source": [
        "# Calculate the value of the function f(x) at x = -2\n",
        "func_evaluated_at_minus2 = (-2)**2 + 3*(-2) - 4"
      ],
      "execution_count": 5,
      "outputs": []
    },
    {
      "cell_type": "code",
      "metadata": {
        "id": "h8PgF85VDelu"
      },
      "source": [
        "# Calculate the value of the function f(x) at x = 4\n",
        "func_evaluated_at_4 = 4**2 + 3*4 - 4"
      ],
      "execution_count": 6,
      "outputs": []
    },
    {
      "cell_type": "code",
      "source": [
        "#Check if func_evaluated_at_3 >= func_evaluated_at_minus2\n",
        "print(func_evaluated_at_3 >= func_evaluated_at_minus2)"
      ],
      "metadata": {
        "id": "ESCji5FY9x61",
        "colab": {
          "base_uri": "https://localhost:8080/"
        },
        "outputId": "3d6eb90a-35e2-4898-dc56-0f0b49d591ff"
      },
      "execution_count": 7,
      "outputs": [
        {
          "output_type": "stream",
          "name": "stdout",
          "text": [
            "True\n"
          ]
        }
      ]
    },
    {
      "cell_type": "code",
      "source": [
        "#Check if value of f(x) at 3,-2 or 4 is equal to 0 or not\n",
        "print(\"The value of f(x) at 3 :\",func_evaluated_at_3)\n",
        "print(\"The value of f(x) at -2 :\",func_evaluated_at_minus2)\n",
        "print(\"The value of f(x) at 4 :\",func_evaluated_at_4)"
      ],
      "metadata": {
        "id": "bZuIzWse94rT",
        "colab": {
          "base_uri": "https://localhost:8080/"
        },
        "outputId": "484224a4-0beb-4d93-8be0-146055b0c813"
      },
      "execution_count": 8,
      "outputs": [
        {
          "output_type": "stream",
          "name": "stdout",
          "text": [
            "The value of f(x) at 3 : 14\n",
            "The value of f(x) at -2 : -6\n",
            "The value of f(x) at 4 : 24\n"
          ]
        }
      ]
    },
    {
      "cell_type": "markdown",
      "source": [
        "##Space and Time Complexity\n",
        "Time complexity of O(1) and a space complexity of O(1)"
      ],
      "metadata": {
        "id": "DNKf9a9OfEzm"
      }
    },
    {
      "cell_type": "markdown",
      "source": [
        "## Finding total A's in the Bookshelves\n",
        "\n",
        "In your pursuit of expanding your knowledge of Python, you come across a bookstore in search of books on the subject.\n",
        "\n",
        "There, you meet a salesperson who is also a Python enthusiast!!\n",
        "\n",
        "The salesperson presents you with a challenge - they have a list of five books related to Python and if you can write a program that finds the count of letter 'e', the store will give you a free book of your choice. 😀\n",
        "\n",
        "Are you ready to accept the challenge? 💪"
      ],
      "metadata": {
        "id": "kyKx-MLZHsoh"
      }
    },
    {
      "cell_type": "code",
      "source": [
        "# Here's the list of books\n",
        "books = \"Python for Everyone, Learn Python the Hard Way, Python Crash Course , Starting Out with Python, Automate the Boring Stuff with Python\"\n"
      ],
      "metadata": {
        "id": "iImDmkOZXRRP"
      },
      "execution_count": 9,
      "outputs": []
    },
    {
      "cell_type": "code",
      "source": [
        "# Store the count of books containing A/a in the title. Note this will be a case insensitive search\n",
        "a_counts = sum(1 for char in books if char=='a')\n",
        "\n",
        "A_counts= sum(1 for char in books if char=='A')\n",
        "\n",
        "total_a_counts= a_counts + A_counts"
      ],
      "metadata": {
        "id": "-3HeaI3YXWQ1"
      },
      "execution_count": 10,
      "outputs": []
    },
    {
      "cell_type": "code",
      "source": [
        "# Print the value\n",
        "print(f\"The total number of 'a's in the list of books is {total_a_counts}\")"
      ],
      "metadata": {
        "id": "KXUYgyjBXaCH",
        "colab": {
          "base_uri": "https://localhost:8080/"
        },
        "outputId": "696f3b3c-246e-4f0e-ccd5-eeaa5bea2593"
      },
      "execution_count": 11,
      "outputs": [
        {
          "output_type": "stream",
          "name": "stdout",
          "text": [
            "The total number of 'a's in the list of books is 7\n"
          ]
        }
      ]
    },
    {
      "cell_type": "markdown",
      "source": [
        "##Space and Time Complexity\n",
        "Time complexity of O(n) and a space complexity of O(1), where 'n' is the length of the books string."
      ],
      "metadata": {
        "id": "UtK_qYUEfYuj"
      }
    }
  ]
}