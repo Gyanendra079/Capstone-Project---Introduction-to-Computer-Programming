{
  "nbformat": 4,
  "nbformat_minor": 0,
  "metadata": {
    "colab": {
      "provenance": [],
      "authorship_tag": "ABX9TyOblZ6RU5+su6KUWcuW7N4I",
      "include_colab_link": true
    },
    "kernelspec": {
      "name": "python3",
      "display_name": "Python 3"
    },
    "language_info": {
      "name": "python"
    }
  },
  "cells": [
    {
      "cell_type": "markdown",
      "metadata": {
        "id": "view-in-github",
        "colab_type": "text"
      },
      "source": [
        "<a href=\"https://colab.research.google.com/github/Gyanendra079/Capstone-Project---Introduction-to-Computer-Programming/blob/main/Capstone_Project_Introduction_to_Computer_Programming_ipynb.ipynb\" target=\"_parent\"><img src=\"https://colab.research.google.com/assets/colab-badge.svg\" alt=\"Open In Colab\"/></a>"
      ]
    },
    {
      "cell_type": "markdown",
      "source": [
        "# **Introduction to Python Programming**"
      ],
      "metadata": {
        "id": "XIj_QdatBQTt"
      }
    },
    {
      "cell_type": "markdown",
      "source": [
        "## Score Board Operator\n",
        "An operator working behind the scoreboard of a inter cohort AlmaBetter cricket tournament, is responsible for updating the scores and points of each team. However, the operator is currently facing a challenge. He has been tasked with updating the total number of points gained by Team London, but he does not possess the necessary programming skills to complete this task.\n",
        "According to the tournament's rules, teams are awarded the following points based on the outcome of a match:\n",
        "\n",
        "* wins: 3 points\n",
        "* draws: 1 point\n",
        "* losses: 0 points\n",
        "\n",
        "\n",
        "\n",
        "\n",
        "Team London has played **8 matches** in this tournament. They won **4 matches**, lost **3 matches** and **drew 1**.\n",
        "The operator is in need of assistance to calculate the total number of points earned by Team London. As a python expert adept with knowledge of integer, floats and boolean, you can help the operator by writing a solution for the following problem.\n",
        "\n",
        "What would your approach be?"
      ],
      "metadata": {
        "id": "dCSH8MhBRTW7"
      }
    },
    {
      "cell_type": "code",
      "source": [
        "# Define the points for different outcomes\n",
        "points_for_win = 3\n",
        "points_for_draw = 1\n",
        "points_for_loss = 0\n",
        "\n",
        "# Count the number of wins, draws, and losses\n",
        "wins = 4\n",
        "draws = 1\n",
        "losses = 3\n",
        "\n",
        "# Calculate the total points\n",
        "total_points = (wins * points_for_win) + (draws * points_for_draw) + (losses * points_for_loss)\n",
        "\n",
        "# Print the total points earned by Team London\n",
        "print(\"Total points earned by Team London:\", total_points)"
      ],
      "metadata": {
        "id": "dmX4SiGBigC6",
        "colab": {
          "base_uri": "https://localhost:8080/"
        },
        "outputId": "cf117062-06c9-4079-d2ea-9954a2a40a1b"
      },
      "execution_count": 42,
      "outputs": [
        {
          "output_type": "stream",
          "name": "stdout",
          "text": [
            "Total points earned by Team London: 13\n"
          ]
        }
      ]
    },
    {
      "cell_type": "markdown",
      "source": [
        "## Space and Time Complexity\n",
        " Time complexity of O(1) and a space complexity of O(1) because it performs a fixed number of operations and uses a fixed amount of memory regardless of the input values."
      ],
      "metadata": {
        "id": "sqlBInwKddaC"
      }
    },
    {
      "cell_type": "markdown",
      "source": [
        "## Nutrition bar ingredient chart\n",
        "\n",
        "Imagine you are a data analyst at a nutrition bar manufacturing company. Your department head approaches you with a question. The company produces a nutrition bar that contains **45g of raisins, 65g of almonds, and 30g of apricots**. The head of the manufacturing department wants you to create an ingredient percentage list for the nutrition bar using python.\n",
        "\n",
        "Equipped with the knowledge of int, float and booleans in python, how would you approach this situation?"
      ],
      "metadata": {
        "id": "qEICqapxUkVB"
      }
    },
    {
      "cell_type": "code",
      "source": [
        "# Define the weights of each ingredient in grams\n",
        "weight_raisins = 45\n",
        "weight_almonds = 65\n",
        "weight_apricots = 30\n",
        "\n",
        "# Calculate the total weight of all ingredients\n",
        "total_weight = weight_raisins + weight_almonds + weight_apricots\n",
        "\n",
        "# Calculate the percentage of each ingredient\n",
        "percentage_raisins = (weight_raisins / total_weight) * 100\n",
        "percentage_almonds = (weight_almonds / total_weight) * 100\n",
        "percentage_apricots = (weight_apricots / total_weight) * 100\n",
        "\n",
        "# Print the ingredient percentages\n",
        "print(\"Ingredient Percentage List:\")\n",
        "print(\"Raisins:\", round(percentage_raisins,2),\"%\")\n",
        "print(\"Almonds:\", round(percentage_almonds,2), \"%\")\n",
        "print(\"Apricots:\", round(percentage_apricots,2), \"%\")"
      ],
      "metadata": {
        "id": "r-3d1ui9iyFq",
        "colab": {
          "base_uri": "https://localhost:8080/"
        },
        "outputId": "20bf378c-f1fe-4e4d-e3ad-313356aa17eb"
      },
      "execution_count": 43,
      "outputs": [
        {
          "output_type": "stream",
          "name": "stdout",
          "text": [
            "Ingredient Percentage List:\n",
            "Raisins: 32.14 %\n",
            "Almonds: 46.43 %\n",
            "Apricots: 21.43 %\n"
          ]
        }
      ]
    },
    {
      "cell_type": "markdown",
      "source": [
        "## Space and Time Complexity\n",
        "A time complexity of O(1) and a space complexity of O(1) because it performs a fixed number of operations and uses a fixed amount of memory regardless of the input values."
      ],
      "metadata": {
        "id": "_OVtyKo3dwzh"
      }
    },
    {
      "cell_type": "markdown",
      "source": [
        "## Measuring the Accuracy of a Disease Detection Model- Optional\n",
        "\n",
        "If you're not impressed with these usecases yet, understand that you're just getting started with python. Going forward as a data scientist, you'll be using what you've learned to design machine learning models that just might even save lives!!\n",
        "\n",
        "Let's say you have created a machine learning model to detect diseases in patients based on their symptoms and medical history. The model has been tested on a dataset of **100 patients**, including **30 with diabetes**, **45 with heart disease**, and **25 with cancer**.\n",
        "The model's performance was evaluated in three rounds.\n",
        "In the first round, the model correctly **detected diabetes in 25 out of the 30 patients** with the disease.\n",
        "In the second round, the model correctly detected **heart disease in 35 out of the 45 patients** with the disease.\n",
        "In the final round, the model correctly **detected cancer in 20 out of the 25 patients** with the disease.\n",
        "\n",
        "The model's accuracy is defined as the percentage of correctly detected cases out of the total number of patient\n",
        "\n",
        "Assess how accurate your model is across these 3 diseases.\n"
      ],
      "metadata": {
        "id": "9Y3kSoUHVOGj"
      }
    },
    {
      "cell_type": "code",
      "source": [
        "# Define the number of patients with each disease\n",
        "patients_diabetes = 30\n",
        "patients_heart_disease = 45\n",
        "patients_cancer = 25\n",
        "\n",
        "# Define the number of correctly detected cases for each disease\n",
        "correctly_detected_diabetes = 25\n",
        "correctly_detected_heart_disease = 35\n",
        "correctly_detected_cancer = 20\n",
        "\n",
        "# Calculate the accuracy for each disease\n",
        "accuracy_diabetes = (correctly_detected_diabetes / patients_diabetes) * 100\n",
        "accuracy_heart_disease = (correctly_detected_heart_disease / patients_heart_disease) * 100\n",
        "accuracy_cancer = (correctly_detected_cancer / patients_cancer) * 100"
      ],
      "metadata": {
        "id": "MWgzkJKijEJC"
      },
      "execution_count": 44,
      "outputs": []
    },
    {
      "cell_type": "markdown",
      "source": [
        "##Space and Time Complexity\n",
        "Time complexity of O(1) and a space complexity of O(1) because it performs a fixed number of operations and uses a fixed amount of memory regardless of the input values."
      ],
      "metadata": {
        "id": "hzA3j0wpeyDT"
      }
    },
    {
      "cell_type": "markdown",
      "source": [
        "# **Data Types in Python**"
      ],
      "metadata": {
        "id": "AzbS5w7QB28m"
      }
    },
    {
      "cell_type": "markdown",
      "source": [
        "You must remember the algebraic equations and functions you came across during your school days. If you do, you also must remember how tedious it was to do solve them manually. 😫\n",
        "Consider a quadratic function:\n",
        "\n",
        "***f(x)=x^2+3x-4***\n",
        "\n",
        "Find the value of f(x) at x =3 , x=-2, and x=4\n",
        "\n",
        "Doing this manually like the old days would be a tedious job 😞. But now you have python at your disposal 🙂 !\n",
        "How would you approach this problem using what you have learned?\n"
      ],
      "metadata": {
        "id": "_qhDAZQsSvPv"
      }
    },
    {
      "cell_type": "code",
      "metadata": {
        "id": "4_HZwes5Delh"
      },
      "source": [
        "# Calculate the value of the function f(x) at x = 3\n",
        "func_evaluated_at_3 = 3**2 + 3*3 - 4"
      ],
      "execution_count": 45,
      "outputs": []
    },
    {
      "cell_type": "code",
      "metadata": {
        "id": "uD4MAyKIDelo"
      },
      "source": [
        "# Calculate the value of the function f(x) at x = -2\n",
        "func_evaluated_at_minus2 = (-2)**2 + 3*(-2) - 4"
      ],
      "execution_count": 46,
      "outputs": []
    },
    {
      "cell_type": "code",
      "metadata": {
        "id": "h8PgF85VDelu"
      },
      "source": [
        "# Calculate the value of the function f(x) at x = 4\n",
        "func_evaluated_at_4 = 4**2 + 3*4 - 4"
      ],
      "execution_count": 47,
      "outputs": []
    },
    {
      "cell_type": "code",
      "source": [
        "#Check if func_evaluated_at_3 >= func_evaluated_at_minus2\n",
        "print(func_evaluated_at_3 >= func_evaluated_at_minus2)"
      ],
      "metadata": {
        "id": "ESCji5FY9x61",
        "colab": {
          "base_uri": "https://localhost:8080/"
        },
        "outputId": "2327baa4-7b70-423d-ad6d-7cf1ae62eb94"
      },
      "execution_count": 48,
      "outputs": [
        {
          "output_type": "stream",
          "name": "stdout",
          "text": [
            "True\n"
          ]
        }
      ]
    },
    {
      "cell_type": "code",
      "source": [
        "#Check if value of f(x) at 3,-2 or 4 is equal to 0 or not\n",
        "print(\"The value of f(x) at 3 :\",func_evaluated_at_3)\n",
        "print(\"The value of f(x) at -2 :\",func_evaluated_at_minus2)\n",
        "print(\"The value of f(x) at 4 :\",func_evaluated_at_4)"
      ],
      "metadata": {
        "id": "bZuIzWse94rT",
        "colab": {
          "base_uri": "https://localhost:8080/"
        },
        "outputId": "ea200dd8-055a-476b-997c-c231eec03042"
      },
      "execution_count": 49,
      "outputs": [
        {
          "output_type": "stream",
          "name": "stdout",
          "text": [
            "The value of f(x) at 3 : 14\n",
            "The value of f(x) at -2 : -6\n",
            "The value of f(x) at 4 : 24\n"
          ]
        }
      ]
    },
    {
      "cell_type": "markdown",
      "source": [
        "##Space and Time Complexity\n",
        "Time complexity of O(1) and a space complexity of O(1)"
      ],
      "metadata": {
        "id": "DNKf9a9OfEzm"
      }
    },
    {
      "cell_type": "markdown",
      "source": [
        "## Finding total A's in the Bookshelves\n",
        "\n",
        "In your pursuit of expanding your knowledge of Python, you come across a bookstore in search of books on the subject.\n",
        "\n",
        "There, you meet a salesperson who is also a Python enthusiast!!\n",
        "\n",
        "The salesperson presents you with a challenge - they have a list of five books related to Python and if you can write a program that finds the count of letter 'e', the store will give you a free book of your choice. 😀\n",
        "\n",
        "Are you ready to accept the challenge? 💪"
      ],
      "metadata": {
        "id": "kyKx-MLZHsoh"
      }
    },
    {
      "cell_type": "code",
      "source": [
        "# Here's the list of books\n",
        "books = \"Python for Everyone, Learn Python the Hard Way, Python Crash Course , Starting Out with Python, Automate the Boring Stuff with Python\"\n"
      ],
      "metadata": {
        "id": "iImDmkOZXRRP"
      },
      "execution_count": 50,
      "outputs": []
    },
    {
      "cell_type": "code",
      "source": [
        "# Store the count of books containing A/a in the title. Note this will be a case insensitive search\n",
        "a_counts = sum(1 for char in books if char=='a')\n",
        "\n",
        "A_counts= sum(1 for char in books if char=='A')\n",
        "\n",
        "total_a_counts= a_counts + A_counts"
      ],
      "metadata": {
        "id": "-3HeaI3YXWQ1"
      },
      "execution_count": 51,
      "outputs": []
    },
    {
      "cell_type": "code",
      "source": [
        "# Print the value\n",
        "print(f\"The total number of 'a's in the list of books is {total_a_counts}\")"
      ],
      "metadata": {
        "id": "KXUYgyjBXaCH",
        "colab": {
          "base_uri": "https://localhost:8080/"
        },
        "outputId": "67621be4-ce4e-4d10-8c68-1d0a83c1ba5f"
      },
      "execution_count": 52,
      "outputs": [
        {
          "output_type": "stream",
          "name": "stdout",
          "text": [
            "The total number of 'a's in the list of books is 7\n"
          ]
        }
      ]
    },
    {
      "cell_type": "markdown",
      "source": [
        "##Space and Time Complexity\n",
        "Time complexity of O(n) and a space complexity of O(1), where 'n' is the length of the books string."
      ],
      "metadata": {
        "id": "UtK_qYUEfYuj"
      }
    },
    {
      "cell_type": "markdown",
      "source": [
        "## Unleashing the Power of Mean in Exam Analysis"
      ],
      "metadata": {
        "id": "BUzHV9sfvemq"
      }
    },
    {
      "cell_type": "markdown",
      "source": [
        "When analyzing exam scores, teachers have the power to unlock valuable insights into their students' performance. By using the mean and median, they can get a clear picture of how the class is doing as a whole and identify areas where improvement is needed.\n",
        "\n",
        "The mean score is like a report card for the entire class, showing the average of all exam scores. It gives a good general idea of how the class is doing but can be influenced by a few students with extremely high or low scores.\n",
        "\n",
        "By analysing the mean, teachers can get a complete picture of the class performance and make informed decisions to improve the learning experience for their students. So go ahead and use these powerful tools to take your students' exam scores to the next level! 💪"
      ],
      "metadata": {
        "id": "JQOrvXKEwJgy"
      }
    },
    {
      "cell_type": "code",
      "source": [
        "# List of student marks\n",
        "marks = [67,87,75,46,89,97,68,98,87,88]"
      ],
      "metadata": {
        "id": "qTEXZHBxwVP1"
      },
      "execution_count": 53,
      "outputs": []
    },
    {
      "cell_type": "code",
      "source": [
        "# Calculate the mean of the marks. Use sum() and len() functions\n",
        "mean_marks = sum(marks)/len(marks)"
      ],
      "metadata": {
        "id": "9BpBKVXFw4Mg"
      },
      "execution_count": 54,
      "outputs": []
    },
    {
      "cell_type": "code",
      "source": [
        "print(mean_marks)"
      ],
      "metadata": {
        "id": "XQ1cL8mCpfeS",
        "colab": {
          "base_uri": "https://localhost:8080/"
        },
        "outputId": "109deaa8-d9c4-42e3-e1ea-a9d9fc235f8a"
      },
      "execution_count": 55,
      "outputs": [
        {
          "output_type": "stream",
          "name": "stdout",
          "text": [
            "80.2\n"
          ]
        }
      ]
    },
    {
      "cell_type": "markdown",
      "source": [
        "##Space and Time Complexity\n",
        "The code has a time complexity of O(n) and a space complexity of O(1), where 'n' is the number of elements in the marks list"
      ],
      "metadata": {
        "id": "kOe2XzOkfoOd"
      }
    },
    {
      "cell_type": "markdown",
      "source": [
        "\n",
        "## John's Fruit Stand Sales Mix-up\n",
        "\n",
        "You must remember from the previous lessons that dictionaries can be used to store values corresponding to a particular key. But how is this helpful to us?\n",
        "\n",
        "Let's look at this scenario:\n",
        "\n",
        "Jim owns a quaint little fruit stand that sells mangoes, bananas, apples, and pineapples. One day, with Jim being tied up, he tasked his son John to manage the shop for a day. Being new to the game, John recorded the sales data in an unconventional way. He wrote down the name of each fruit as many times as it was sold, creating a list like this:\n",
        "\n",
        "**['Mango','Mango','Mango','Pineapple','Pineapple','Pineapple','Apple','Mango','Banana','Apple','Banana','Apple','Pineapple','Apple','Apple','Pineapple','Pineapple']**\n",
        "🤦\n",
        "\n",
        "But, this method is not very efficient or easy to read.\n",
        "\n",
        "Forunately you were there at the shop to grab some apples yourselves, and you saw what John was doing.\n",
        "\n",
        "You can help him out to structure the data by using dictionaries. How?\n",
        "\n"
      ],
      "metadata": {
        "id": "iOZMEc3KtdsM"
      }
    },
    {
      "cell_type": "code",
      "execution_count": 56,
      "metadata": {
        "id": "lqRlffflqcUg"
      },
      "outputs": [],
      "source": [
        "#Here's John's list:\n",
        "fruit_list=['Mango','Mango','Mango','Pineapple','Pineapple','Pineapple','Apple','Mango','Banana','Apple','Banana','Apple','Pineapple','Apple','Apple','Pineapple','Pineapple']"
      ]
    },
    {
      "cell_type": "code",
      "source": [
        "# Step 2: Create an empty dictionary which will contain the unique fruit names\n",
        "fruit_dict={}\n",
        "\n",
        "# Set the values for each key separately\n",
        "\n",
        "# First Key\n",
        "fruit_dict['Mango']= fruit_list.count('Mango')\n",
        "\n",
        "# Second Key\n",
        "fruit_dict['Pineapple']= fruit_list.count('Pineapple')\n",
        "\n",
        "# Third Key\n",
        "fruit_dict['Apple']= fruit_list.count('Apple')\n",
        "\n",
        "# Fourth Key\n",
        "fruit_dict['Banana']= fruit_list.count('Banana')"
      ],
      "metadata": {
        "id": "zP1dXujAD_GA"
      },
      "execution_count": 57,
      "outputs": []
    },
    {
      "cell_type": "code",
      "source": [
        "print(fruit_dict)"
      ],
      "metadata": {
        "id": "oy02z7prygYo",
        "colab": {
          "base_uri": "https://localhost:8080/"
        },
        "outputId": "8d8c19da-740e-49f7-8f9f-7c77365d186f"
      },
      "execution_count": 58,
      "outputs": [
        {
          "output_type": "stream",
          "name": "stdout",
          "text": [
            "{'Mango': 4, 'Pineapple': 6, 'Apple': 5, 'Banana': 2}\n"
          ]
        }
      ]
    },
    {
      "cell_type": "markdown",
      "source": [
        "## Space and time complexity\n",
        "The code has a time complexity of O(n) and a space complexity of O(1) or O(k), where 'n' is the number of elements in the fruit_list and 'k' is the number of unique fruit names."
      ],
      "metadata": {
        "id": "dNuO6Y98ggrY"
      }
    },
    {
      "cell_type": "markdown",
      "source": [
        "# **Indexing & Slicing**"
      ],
      "metadata": {
        "id": "hw_eQmfUo8Ma"
      }
    },
    {
      "cell_type": "markdown",
      "source": [
        "## Imagine that you are a superhero movie buff and you're trying to create a list of the most iconic Marvel characters. You have compiled a list of some of the most popular characters, but you want to narrow it down to the top 6.\n",
        "\n",
        "Here's your list of characters:\n",
        "\n",
        "marvel_words = ['Avengers', 'X-Men', 'Spider-Man', 'Iron Man', 'Hulk', 'Thor', 'Black Widow', 'Captain America', 'Wolverine', 'Doctor Strange', 'Namor']\n"
      ],
      "metadata": {
        "id": "4xWhhMD7lFiO"
      }
    },
    {
      "cell_type": "code",
      "source": [
        "# Here's your list of characters:\n",
        "\n",
        "marvel_words = ['Avengers', 'X-Men', 'Spider-Man', 'Iron Man', 'Hulk', 'Thor', 'Black Widow', 'Captain America', 'Wolverine', 'Doctor Strange', 'Namor']"
      ],
      "metadata": {
        "id": "wecbawDhmHhv"
      },
      "execution_count": 59,
      "outputs": []
    },
    {
      "cell_type": "markdown",
      "source": [
        "You want to narrow down the list to the last 6 characters in the list. These characters are:\n",
        "\n",
        "* Namor\n",
        "* Doctor Strange\n",
        "* Wolverine\n",
        "* Captain America\n",
        "* Black Widow\n",
        "* Thor\n",
        "\n",
        "\n",
        "\n"
      ],
      "metadata": {
        "id": "LCQe44-gwnxB"
      }
    },
    {
      "cell_type": "code",
      "source": [
        "# Replace x with appropriate values\n",
        "new_marvel=marvel_words[5:]\n",
        "print(new_marvel)"
      ],
      "metadata": {
        "id": "GF31Mwo2wmM7",
        "colab": {
          "base_uri": "https://localhost:8080/"
        },
        "outputId": "9dcb7fc6-3e64-46fa-e861-bc74fdce1222"
      },
      "execution_count": 60,
      "outputs": [
        {
          "output_type": "stream",
          "name": "stdout",
          "text": [
            "['Thor', 'Black Widow', 'Captain America', 'Wolverine', 'Doctor Strange', 'Namor']\n"
          ]
        }
      ]
    },
    {
      "cell_type": "markdown",
      "source": [
        "## Create two teams of superheroes based on their index position: one team should consist of all the characters located at even index positions, while the other team should consist of all the characters located at odd index positions."
      ],
      "metadata": {
        "id": "ExOuQaMiYSs7"
      }
    },
    {
      "cell_type": "code",
      "source": [
        "team1=marvel_words[0::2]\n",
        "team2=marvel_words[1::2]\n",
        "print(\"Team 1 :\",team1)\n",
        "print(\"Team 2 :\",team2)"
      ],
      "metadata": {
        "id": "FfV-JzekZBKd",
        "colab": {
          "base_uri": "https://localhost:8080/"
        },
        "outputId": "37bb39d4-4bc7-4d5b-a092-2cc2138a241b"
      },
      "execution_count": 61,
      "outputs": [
        {
          "output_type": "stream",
          "name": "stdout",
          "text": [
            "Team 1 : ['Avengers', 'Spider-Man', 'Hulk', 'Black Widow', 'Wolverine', 'Namor']\n",
            "Team 2 : ['X-Men', 'Iron Man', 'Thor', 'Captain America', 'Doctor Strange']\n"
          ]
        }
      ]
    },
    {
      "cell_type": "markdown",
      "source": [
        "###3. Store the word 'Spider-Man' in a new variable, and slice the word 'Spider' from it."
      ],
      "metadata": {
        "id": "-mQM5JHjm_pS"
      }
    },
    {
      "cell_type": "code",
      "source": [
        "spider_man=marvel_words[2]\n",
        "spidey_sliced=spider_man[7:]\n",
        "print(spidey_sliced)"
      ],
      "metadata": {
        "id": "3umcx5a5m3Fn",
        "colab": {
          "base_uri": "https://localhost:8080/"
        },
        "outputId": "0f65affb-4377-4a50-ec41-4e69fd4423e0"
      },
      "execution_count": 62,
      "outputs": [
        {
          "output_type": "stream",
          "name": "stdout",
          "text": [
            "Man\n"
          ]
        }
      ]
    },
    {
      "cell_type": "markdown",
      "source": [
        "###4. Store the word 'Iron-Man' in a variable and use reverse indexing to reverse it."
      ],
      "metadata": {
        "id": "K_QHunxknscj"
      }
    },
    {
      "cell_type": "code",
      "source": [
        "#Your code here\n",
        "iron_man=marvel_words[3]\n",
        "reversed_man=iron_man[::-1]\n",
        "print(reversed_man)"
      ],
      "metadata": {
        "id": "LK5c5ELwqpvW",
        "colab": {
          "base_uri": "https://localhost:8080/"
        },
        "outputId": "5d4b3d7f-8043-4366-e44d-e79372f4f9e2"
      },
      "execution_count": 63,
      "outputs": [
        {
          "output_type": "stream",
          "name": "stdout",
          "text": [
            "naM norI\n"
          ]
        }
      ]
    },
    {
      "cell_type": "markdown",
      "source": [
        "##Time and Space Complexity\n",
        "Let's analyze the time and space complexity of each part of the provided code:\n",
        "\n",
        "new_marvel = marvel_words[5:] : Both the time and space complexity of this operation are O(n), where 'n' is the length of the original marvel_words list.\n",
        "\n",
        "team1 = marvel_words[0::2] and team2 = marvel_words[1::2] :The time complexity of both operations is O(n), and the space complexity is also O(n) because the slices create new lists with approximately half the size of the original list.\n",
        "\n",
        "spider_man = marvel_words[2] and spidey_sliced = spider_man[7:]: Both operations have a time complexity of O(1) because they involve accessing specific elements of the list and string slicing, which are constant time operations. The space complexity is also O(1) because only string references are created.\n",
        "\n",
        "iron_man = marvel_words[3] and reversed_man = iron_man[::-1]: Both operations have a time complexity of O(m), where 'm' is the length of the string (in this case, the length of the word \"Iron Man\"). The space complexity is O(m) because a new string of the same length is created to store the reversed word."
      ],
      "metadata": {
        "id": "TVqypCQ1uPZh"
      }
    },
    {
      "cell_type": "markdown",
      "source": [
        "# **Operators in Data Types**"
      ],
      "metadata": {
        "id": "AaQqED-gt1Ij"
      }
    },
    {
      "cell_type": "markdown",
      "source": [
        "\n",
        "## 🎉 Let's do some math!\n",
        "\n",
        "* 📐 First up, let's calculate the area of a square with sides that measure 5 cm. 🤔 How much space does this shape occupy?\n",
        "\n",
        "* 🔍 Next, let's find the volume of a cube with sides that measure 12 cm. 📏 How much room does this shape take up?\n",
        "\n",
        "* 🔢 Lastly, we'll find the quotient and remainder when we divide 10 by 4. 🧐 How many times does 4 fit into 10? What's left over?"
      ],
      "metadata": {
        "id": "HNOkGnOhYRdb"
      }
    },
    {
      "cell_type": "code",
      "source": [
        "# Area of the square\n",
        "side = 5\n",
        "ar_square=side**2\n",
        "print(\"Area of the square\",ar_square)\n",
        "\n",
        "# Volume of the cube\n",
        "edge = 3\n",
        "vol_cube=edge**3\n",
        "print(\"Volume of cube :\",vol_cube)\n",
        "\n",
        "# quotient and remainder\n",
        "numerator = 10\n",
        "denominator = 4\n",
        "\n",
        "quotient=numerator//denominator\n",
        "remainder=numerator % denominator\n",
        "\n",
        "print(\"Remainder :\",remainder)\n",
        "print(\"Quotient :\",quotient)"
      ],
      "metadata": {
        "id": "JIBfHim7IrBG",
        "colab": {
          "base_uri": "https://localhost:8080/"
        },
        "outputId": "dd25d41c-c1a5-41a1-e0f1-ac8c6b355c17"
      },
      "execution_count": 64,
      "outputs": [
        {
          "output_type": "stream",
          "name": "stdout",
          "text": [
            "Area of the square 25\n",
            "Volume of cube : 27\n",
            "Remainder : 2\n",
            "Quotient : 2\n"
          ]
        }
      ]
    },
    {
      "cell_type": "markdown",
      "source": [
        "##Time and Space Complexity\n",
        "\n",
        "\n",
        "1.   The time complexity of all operations is O(1) because they involve simple arithmetic calculations that do not depend on the size of any input.\n",
        "2.   The space complexity is also O(1) because a fixed number of variables are used, and their memory usage does not depend on the size of any input.\n",
        "\n",
        "\n"
      ],
      "metadata": {
        "id": "mwMV6eSwv-bU"
      }
    },
    {
      "cell_type": "markdown",
      "source": [
        "## 📚 Let's practice some comparison operators! Here's a problem for you to solve:\n",
        "\n",
        "🍎 The first basket contains 12 apples, and the second basket contains 8 apples. Use comparison operators to answer the following questions:\n",
        "\n",
        "* Is the number of apples in the first basket greater than the number of apples in the second basket?\n",
        "\n",
        "* Is the number of apples in the second basket less than or equal to the number of apples in the first basket?\n",
        "* Is the number of apples in the first basket equal to the number of apples in the second basket?\n",
        "* Is the number of apples in the second basket not equal to the number of apples in the first basket?\n",
        "\n",
        "Use comparison operators (i.e. >, >=, <, <=, ==, !=) in your code to answer each question. Good luck! 🍎🍏"
      ],
      "metadata": {
        "id": "nAX2nLAZWpKI"
      }
    },
    {
      "cell_type": "code",
      "source": [
        "# Your code here\n",
        "basket1=12\n",
        "basket2=8\n",
        "# number of apples in the first basket greater than the number of apples in the second basket?\n",
        "print('Apples in basket1 greater than basket2:',basket1 > basket2)\n",
        "\n",
        "# number of apples in the second basket less than or equal to the number of apples in the first basket?\n",
        "print('Apples in basket2 less than or equal to basket1:',basket1 >= basket2)\n",
        "\n",
        "# number of apples in the first basket equal to the number of apples in the second basket?\n",
        "print('Apples in basket1 equal to basket1:',basket1 == basket2)\n",
        "\n",
        "# number of apples in the second basket not equal to the number of apples in the first basket?\n",
        "print('Apples in basket1 not equal to basket1:',basket1 != basket2)"
      ],
      "metadata": {
        "id": "-TsVx5cdWpKI",
        "colab": {
          "base_uri": "https://localhost:8080/"
        },
        "outputId": "16825a7b-2727-45f8-9e04-e4aeb1ff7750"
      },
      "execution_count": 65,
      "outputs": [
        {
          "output_type": "stream",
          "name": "stdout",
          "text": [
            "Apples in basket1 greater than basket2: True\n",
            "Apples in basket2 less than or equal to basket1: True\n",
            "Apples in basket1 equal to basket1: False\n",
            "Apples in basket1 not equal to basket1: True\n"
          ]
        }
      ]
    },
    {
      "cell_type": "markdown",
      "source": [
        "##Space and Time Complexity\n",
        "They have both space and time complexity of O(1)"
      ],
      "metadata": {
        "id": "pGkEMmCTwmdh"
      }
    },
    {
      "cell_type": "markdown",
      "source": [
        "## 🌴 Are you ready for your trip to Goa? 🌊 You've got two bags with you, and you need to make sure they're light enough to board the flight. Let's use some logical operators to find out if you can make it on time!\n",
        "\n",
        "🧳 One of your bags weighs 15 kg, while the other one weighs only 5 kg. 💪 You know you can pack a lot more in the heavier bag, but you have to be careful not to go over the weight limit.\n",
        "\n",
        "👮‍♀️ The airline has a strict policy that both of your bags must weigh less than 13 kg each. Can you make it on the flight? Let's use logical operators to find out!"
      ],
      "metadata": {
        "id": "7_yNqud-j1TS"
      }
    },
    {
      "cell_type": "code",
      "source": [
        "# Define the weight of your bags\n",
        "bag1_weight = 15\n",
        "bag2_weight = 5\n",
        "\n",
        "\n",
        "# Check if both bags weigh less than 13 kg\n",
        "if bag1_weight < 13 and bag2_weight < 13:\n",
        "  print(\"Enjoy your trip!\")\n",
        "else:\n",
        "  print(\"Sorry, You can not go through!\")"
      ],
      "metadata": {
        "id": "3S-wDvHbZYvx",
        "colab": {
          "base_uri": "https://localhost:8080/"
        },
        "outputId": "d5864c26-5b0e-4113-cd72-4b227e7ef334"
      },
      "execution_count": 66,
      "outputs": [
        {
          "output_type": "stream",
          "name": "stdout",
          "text": [
            "Sorry, You can not go through!\n"
          ]
        }
      ]
    },
    {
      "cell_type": "markdown",
      "source": [
        "🧳 Uh oh, it looks like we have a problem with our bags! But don't worry, the crew has offered a solution. 😊\n",
        "\n",
        "👨‍✈️ They've said that if at least one of our bags weighs less than 6 kg, we can still board the flight this time. 🛫\n",
        "\n",
        "🤔 Are we ready for the trip or not? Let's use some logical operators to find out!"
      ],
      "metadata": {
        "id": "bF2FQenhZZPq"
      }
    },
    {
      "cell_type": "code",
      "source": [
        "# Define the weight of your bags\n",
        "bag1_weight = 15\n",
        "bag2_weight = 5\n",
        "\n",
        "# Check if at least one bag weighs less than 6 kg\n",
        "if bag1_weight<6 or bag2_weight<6:\n",
        "  print(\"Enjoy your trip!\")\n",
        "else:\n",
        "  print(\"Sorry, You can not go through!\")"
      ],
      "metadata": {
        "id": "7ndd_Gw3bhIz",
        "colab": {
          "base_uri": "https://localhost:8080/"
        },
        "outputId": "dcce29c7-b8ae-4d4c-aeee-d635a3e9738a"
      },
      "execution_count": 67,
      "outputs": [
        {
          "output_type": "stream",
          "name": "stdout",
          "text": [
            "Enjoy your trip!\n"
          ]
        }
      ]
    },
    {
      "cell_type": "markdown",
      "source": [
        "🤔 Did you notice how we made a decision on which print statement to use based on the result of our logical operators? 🤔\n",
        "\n",
        "🚀 Later on, we're going to learn how to do this in a single step, making it even easier for you. So stay curious 😎"
      ],
      "metadata": {
        "id": "vqQMQs4geeYm"
      }
    },
    {
      "cell_type": "markdown",
      "source": [
        "##Space and Time Complexity\n",
        "They have both space and time complexity of O(1)"
      ],
      "metadata": {
        "id": "61LKUUAbxUw8"
      }
    },
    {
      "cell_type": "markdown",
      "source": [
        "## 📚 Imagine that you're a book lover with a collection of lot of books. 🤓\n",
        "\n",
        "🔎 You need to find out how many of your books contain the word \"Python\" in them. 🐍"
      ],
      "metadata": {
        "id": "0yVUrg0NLnxz"
      }
    },
    {
      "cell_type": "code",
      "source": [
        "books = [\n",
        "    \"Python for Data Science Handbook by Jake VanderPlas\",\n",
        "    \"The Pragmatic Programmer by Andrew Hunt and David Thomas\",\n",
        "    \"Python Machine Learning by Sebastian Raschka\",\n",
        "    \"The Alchemist by Paulo Coelho\",\n",
        "]"
      ],
      "metadata": {
        "id": "HE7i9PDDjSLB"
      },
      "execution_count": 68,
      "outputs": []
    },
    {
      "cell_type": "code",
      "source": [
        "count = 0\n",
        "for book in books:\n",
        "  if \"Python\" in book.split(\" \"):\n",
        "      count += 1"
      ],
      "metadata": {
        "id": "tsmvcBHgjfPa"
      },
      "execution_count": 69,
      "outputs": []
    },
    {
      "cell_type": "code",
      "source": [
        "print(\"The number of books containing the word Python :\",count)"
      ],
      "metadata": {
        "id": "TBuLkYnNjsfS",
        "colab": {
          "base_uri": "https://localhost:8080/"
        },
        "outputId": "5fd3e7ea-899e-4b38-b965-32d1bc9b8ee3"
      },
      "execution_count": 70,
      "outputs": [
        {
          "output_type": "stream",
          "name": "stdout",
          "text": [
            "The number of books containing the word Python : 2\n"
          ]
        }
      ]
    },
    {
      "cell_type": "markdown",
      "source": [
        " The title of the book is not written in the correct cases as well. Make corrections there.\n"
      ],
      "metadata": {
        "id": "HaY-Pmgrr14E"
      }
    },
    {
      "cell_type": "code",
      "source": [
        "list_ = []\n",
        "for book in books:\n",
        "  list_.append(book.upper())\n",
        "print(list_)"
      ],
      "metadata": {
        "colab": {
          "base_uri": "https://localhost:8080/"
        },
        "id": "2WMagimt0f2T",
        "outputId": "7520f508-3acd-4ad3-9f5b-d12505fc593e"
      },
      "execution_count": 71,
      "outputs": [
        {
          "output_type": "stream",
          "name": "stdout",
          "text": [
            "['PYTHON FOR DATA SCIENCE HANDBOOK BY JAKE VANDERPLAS', 'THE PRAGMATIC PROGRAMMER BY ANDREW HUNT AND DAVID THOMAS', 'PYTHON MACHINE LEARNING BY SEBASTIAN RASCHKA', 'THE ALCHEMIST BY PAULO COELHO']\n"
          ]
        }
      ]
    },
    {
      "cell_type": "markdown",
      "source": [
        "## Space and Time Complexity\n",
        " Time complexity of O(n) and a space complexity of O(1), where 'n' is the number of books in the books list"
      ],
      "metadata": {
        "id": "TjLyduG-xyRE"
      }
    },
    {
      "cell_type": "markdown",
      "source": [
        "# **In-Built Functions & Methods**"
      ],
      "metadata": {
        "id": "B80a_pgbGRll"
      }
    },
    {
      "cell_type": "markdown",
      "source": [
        "## Here is a string for you to work with:"
      ],
      "metadata": {
        "id": "rg1rF2AJqlrU"
      }
    },
    {
      "cell_type": "code",
      "source": [
        "# Here is the statement.\n",
        "\n",
        "statement = \"anas eagerly recommended 'the shawshank redemption' to his friends. He described the movie as a captivating and emotional story of hope and friendship. His friends decided to watch it together the following weekend.\""
      ],
      "metadata": {
        "id": "x5DsgVU5pYep"
      },
      "execution_count": 72,
      "outputs": []
    },
    {
      "cell_type": "code",
      "source": [
        "print(statement)"
      ],
      "metadata": {
        "colab": {
          "base_uri": "https://localhost:8080/"
        },
        "id": "0qMdyUT8Mgv4",
        "outputId": "afc8d5b7-6568-459f-a8ad-17d60a63cfd8"
      },
      "execution_count": 73,
      "outputs": [
        {
          "output_type": "stream",
          "name": "stdout",
          "text": [
            "anas eagerly recommended 'the shawshank redemption' to his friends. He described the movie as a captivating and emotional story of hope and friendship. His friends decided to watch it together the following weekend.\n"
          ]
        }
      ]
    },
    {
      "cell_type": "markdown",
      "source": [
        "1. Create a list containing the three sentences in the statement.\n",
        "Hint: Use split() method."
      ],
      "metadata": {
        "id": "eWwJCSZcrGQr"
      }
    },
    {
      "cell_type": "code",
      "source": [
        "# Create a list containing the three sentences in the statement.\n",
        "\n",
        "sentence_list= statement.split('.')\n",
        "print(sentence_list)"
      ],
      "metadata": {
        "id": "cjAgMMBzqUPX",
        "colab": {
          "base_uri": "https://localhost:8080/"
        },
        "outputId": "f0b59022-b2b4-4e3b-d180-3a8901c14dbf"
      },
      "execution_count": 74,
      "outputs": [
        {
          "output_type": "stream",
          "name": "stdout",
          "text": [
            "[\"anas eagerly recommended 'the shawshank redemption' to his friends\", ' He described the movie as a captivating and emotional story of hope and friendship', ' His friends decided to watch it together the following weekend', '']\n"
          ]
        }
      ]
    },
    {
      "cell_type": "markdown",
      "source": [
        "2. The name 'anas' is spelled wrong. Replace it with 'Anas'."
      ],
      "metadata": {
        "id": "lutxbv7crjLV"
      }
    },
    {
      "cell_type": "code",
      "source": [
        "# The name 'anas' is spelled wrong. Replace it with 'Anas'.\n",
        "\n",
        "statement_1 = sentence_list[0].replace(\"anas\",\"Anas\")   #Redefine the statement, with the correction.\n",
        "print(statement_1)\n"
      ],
      "metadata": {
        "id": "wihquZM3pptr",
        "colab": {
          "base_uri": "https://localhost:8080/"
        },
        "outputId": "983e774c-47d2-40e0-a611-8f2660081f43"
      },
      "execution_count": 75,
      "outputs": [
        {
          "output_type": "stream",
          "name": "stdout",
          "text": [
            "Anas eagerly recommended 'the shawshank redemption' to his friends\n"
          ]
        }
      ]
    },
    {
      "cell_type": "markdown",
      "source": [
        "3. You believe \"The Shawshank Redemption\" would be bit too gloomy for the lot. Take user input of which movie to recommend and replace \"The Shawshank Redemption\" from the statement with the new recommendation."
      ],
      "metadata": {
        "id": "g7-df8O_sa8w"
      }
    },
    {
      "cell_type": "code",
      "source": [
        "# Change the recommendation of movie to one, of your choice.\n",
        "# Take input of movie\n",
        "\n",
        "new_movie=input(\"Which movie wold you recommend? \")\n",
        "statement_1 = statement_1.replace('the shawshank redemption',new_movie)\n",
        "print(statement_1)"
      ],
      "metadata": {
        "id": "FaoDdYues1sT",
        "colab": {
          "base_uri": "https://localhost:8080/"
        },
        "outputId": "9c2f501a-4b57-4940-fc5e-d5c0e3dd18a9"
      },
      "execution_count": 76,
      "outputs": [
        {
          "output_type": "stream",
          "name": "stdout",
          "text": [
            "Which movie wold you recommend? Pearl Harbour\n",
            "Anas eagerly recommended 'Pearl Harbour' to his friends\n"
          ]
        }
      ]
    },
    {
      "cell_type": "markdown",
      "source": [
        "##Space and Time Complexity\n",
        "\n",
        "\n",
        "1.   Time complexity: O(n + 2m), where n is the length of the original statement, and m is the length of the first sentence.\n",
        "2.   Space complexity of the code is O(n + m), where n is the length of the original statement, and m is the length of the first sentence.\n",
        "\n"
      ],
      "metadata": {
        "id": "mDgrO9ABLfd_"
      }
    },
    {
      "cell_type": "markdown",
      "source": [
        "## 🎥 Suppose you have a collection of your favorite movies 🍿🎞️ and you want to keep track of them using a Python list 📜. You start with an empty list [] and keep adding new movies 🆕 to it. You also want to be able to remove movies ❌ that you have watched or no longer wish to keep in your collection. Finally, you want to be able to count 🔢 how many movies you have in your collection and reverse the order of the list 🔄."
      ],
      "metadata": {
        "id": "qCn4QduqtXLg"
      }
    },
    {
      "cell_type": "code",
      "source": [
        "# Start with an empty list\n",
        "movie_collection = []\n",
        "\n",
        "# Add some movies to the collection using the append() method\n",
        "movie_collection.append(\"Avengers\") # Use your favourite movie names\n",
        "movie_collection.append(\"Iron Man\")\n",
        "movie_collection.append(\"Thor\")\n",
        "movie_collection.append(\"Justice League\")\n",
        "movie_collection.append(\"Fantastic 4\")\n",
        "\n",
        "# Print the current collection of movies\n",
        "print(\"My Movie Collection:\", movie_collection)\n",
        "\n",
        "# Remove a movie from the collection using the pop() method\n",
        "movie_collection.pop()\n",
        "\n",
        "# Code to remove index 3 here\n",
        "movie_collection.pop(3)\n",
        "print(\"After removing movie 4\", movie_collection)\n",
        "\n",
        "\n",
        "# Count how many movies are in the collection\n",
        "num_movies = len(movie_collection)\n",
        "print(\"Number of movies:\", num_movies)\n",
        "\n",
        "# Reverse the order of the list using the reverse() method\n",
        "movie_collection_rev = sorted(movie_collection,reverse=True)\n",
        "\n",
        "print(\"Reversed movie collection:\", movie_collection_rev)\n"
      ],
      "metadata": {
        "id": "gHyiib9ptWpx",
        "colab": {
          "base_uri": "https://localhost:8080/"
        },
        "outputId": "d102900f-843f-4ce6-8f41-b9b416738459"
      },
      "execution_count": 77,
      "outputs": [
        {
          "output_type": "stream",
          "name": "stdout",
          "text": [
            "My Movie Collection: ['Avengers', 'Iron Man', 'Thor', 'Justice League', 'Fantastic 4']\n",
            "After removing movie 4 ['Avengers', 'Iron Man', 'Thor']\n",
            "Number of movies: 3\n",
            "Reversed movie collection: ['Thor', 'Iron Man', 'Avengers']\n"
          ]
        }
      ]
    },
    {
      "cell_type": "markdown",
      "source": [
        "##Time complexity:\n",
        "1.   Adding movies: O(1) per movie\n",
        "1.   Removing a movie by index: O(n) per removal (worst case)\n",
        "2.   Counting movies: O(1)\n",
        "2.   Reversing the list: O(n*log(n))\n",
        "\n",
        "##Space complexity\n",
        "1.   movie_collection: O(n)\n",
        "2.   movie_collection_rev: O(n)\n",
        "\n",
        "\n"
      ],
      "metadata": {
        "id": "iqtFVj8fQA4v"
      }
    },
    {
      "cell_type": "markdown",
      "source": [
        "## 👩‍🏫 A teacher has stored the names of his students in a tuple as follows:\n",
        "('Adam','Alice','Ben','Bilal','Bharath')\n",
        "\n",
        "👨‍🎓 Their role numbers are defined as their index number + 1.\n",
        "\n",
        "🖥️ Write a program which would take the name of the student as input and return their role number."
      ],
      "metadata": {
        "id": "uEY4_vNcvEZj"
      }
    },
    {
      "cell_type": "code",
      "source": [
        "student_tuple=('Adam','Alice','Ben','Bilal','Bharath')"
      ],
      "metadata": {
        "id": "MuXV52jRwNWR"
      },
      "execution_count": 78,
      "outputs": []
    },
    {
      "cell_type": "code",
      "source": [
        "# Take input from user and display role number as index of the input + 1\n",
        "student=input(\"Input the student name to get roll number - \")\n",
        "print(student,\"'s roll number is: \", student_tuple.index(student)+1)"
      ],
      "metadata": {
        "colab": {
          "base_uri": "https://localhost:8080/"
        },
        "id": "XPMNZkTnwRhb",
        "outputId": "c58f95e5-7dcf-4334-8370-f147d32afb2c"
      },
      "execution_count": 79,
      "outputs": [
        {
          "output_type": "stream",
          "name": "stdout",
          "text": [
            "Input the student name to get roll number - Bilal\n",
            "Bilal 's roll number is:  4\n"
          ]
        }
      ]
    },
    {
      "cell_type": "markdown",
      "source": [
        "##Space and Time Complexity\n",
        "*   Time Complexity O(n) in the worst case because it may need to traverse the entire tuple to find the index.\n",
        "*   Space complexity is constant O(1)\n",
        "\n"
      ],
      "metadata": {
        "id": "HrBl34QsRWJ6"
      }
    },
    {
      "cell_type": "markdown",
      "source": [
        "## A store 🏪 sells different types of fruits 🍎🍌🍇🍓 in baskets 🧺. The storekeeper 🧑 keeps track of the availability of each fruit type in separate sets. The storekeeper wants to know which fruits are available in both baskets, which fruits are unique to each basket, and the total number of fruits available. 🤔"
      ],
      "metadata": {
        "id": "8fz0W273yMnA"
      }
    },
    {
      "cell_type": "code",
      "source": [
        "# Define sets for fruits in each basket\n",
        "basket1 = {'apple', 'banana', 'grape', 'orange'}\n",
        "basket2 = {'banana', 'mango', 'pineapple', 'orange'}\n",
        "\n",
        "# Find the total number of fruits available\n",
        "total_fruits = len(basket1.union(basket2))\n",
        "print(\"Total number of fruits available:\", total_fruits)\n",
        "\n",
        "# Find fruits available in both baskets\n",
        "both_baskets = basket1.union(basket2)\n",
        "print(\"All the available fruits:\", both_baskets)\n",
        "\n",
        "# Find only the common fruits in both baskets\n",
        "common_fruits = basket1.intersection(basket2)\n",
        "print(\"Common fruits in both baskets:\", common_fruits)\n",
        "\n",
        "# Find fruits unique to each basket\n",
        "unique_basket1 = basket1 - basket2\n",
        "unique_basket2 = basket2 - basket1\n",
        "print(\"Fruits unique to basket 1:\", unique_basket1)\n",
        "print(\"Fruits unique to basket 2:\", unique_basket2)"
      ],
      "metadata": {
        "id": "v8PqzLt52z15",
        "colab": {
          "base_uri": "https://localhost:8080/"
        },
        "outputId": "a46b2451-d9ce-43e7-9693-2e052fe5ab38"
      },
      "execution_count": 80,
      "outputs": [
        {
          "output_type": "stream",
          "name": "stdout",
          "text": [
            "Total number of fruits available: 6\n",
            "All the available fruits: {'pineapple', 'apple', 'grape', 'orange', 'mango', 'banana'}\n",
            "Common fruits in both baskets: {'banana', 'orange'}\n",
            "Fruits unique to basket 1: {'apple', 'grape'}\n",
            "Fruits unique to basket 2: {'mango', 'pineapple'}\n"
          ]
        }
      ]
    },
    {
      "cell_type": "markdown",
      "source": [
        "##Space and Time Complexity\n",
        "Both have the value of O(m+n) where m and n are sizes of the sets"
      ],
      "metadata": {
        "id": "UHEBstFxSYC7"
      }
    },
    {
      "cell_type": "markdown",
      "source": [
        "# **Statements, Indentation & Conditionals**"
      ],
      "metadata": {
        "id": "gklgsrl6kIW8"
      }
    },
    {
      "cell_type": "markdown",
      "source": [
        "## 👉 Imagine that you are a food inspector who is responsible for inspecting the lead content of a packaged food material at a factory. If the content exceeds 5%, you should print the message \"This batch cannot be approved\".\n"
      ],
      "metadata": {
        "id": "ByhB8JrbeqQB"
      }
    },
    {
      "cell_type": "code",
      "source": [
        "# Get the lead content of the packaged food material\n",
        "lead_content = float(input(\"Please enter the lead content of the packaged food material in percentage: \"))\n",
        "\n",
        "# Check if the lead content exceeds 5%\n",
        "if lead_content > 5:\n",
        "  print(\"This batch cannot be approved\")\n",
        "else :\n",
        "  print(\"This batch is good to go\")"
      ],
      "metadata": {
        "id": "SZMMKSXteqQC",
        "colab": {
          "base_uri": "https://localhost:8080/"
        },
        "outputId": "8627e6ae-70b1-43ab-85f9-8d3a12a737e1"
      },
      "execution_count": 81,
      "outputs": [
        {
          "output_type": "stream",
          "name": "stdout",
          "text": [
            "Please enter the lead content of the packaged food material in percentage: 7\n",
            "This batch cannot be approved\n"
          ]
        }
      ]
    },
    {
      "cell_type": "markdown",
      "source": [
        "##Space and Time Complexity\n",
        "The overall space and time complexity of this code are both O(1)"
      ],
      "metadata": {
        "id": "Q-B2meJhS-VK"
      }
    },
    {
      "cell_type": "markdown",
      "source": [
        "## 👉 Imagine: You're a bouncer at a nightclub and need to check if someone is old enough to enter. The legal age for entry is 18 years. If the person is less than 18 years print \"Sorry You can not enter!\"."
      ],
      "metadata": {
        "id": "AbgFO_SEeqQD"
      }
    },
    {
      "cell_type": "code",
      "source": [
        "age = int(input(\"enter the age: \"))\n",
        "\n",
        "\n",
        "#Check the age of the guest\n",
        "if age<18:\n",
        "  print(\"Sorry You can not enter!\")\n",
        "else :\n",
        "  print(\"Welcome to the club\")"
      ],
      "metadata": {
        "colab": {
          "base_uri": "https://localhost:8080/"
        },
        "outputId": "31b83af5-5aef-47c5-84e5-833ee6dce41b",
        "id": "0uZg98vneqQE"
      },
      "execution_count": 82,
      "outputs": [
        {
          "output_type": "stream",
          "name": "stdout",
          "text": [
            "enter the age: 17\n",
            "Sorry You can not enter!\n"
          ]
        }
      ]
    },
    {
      "cell_type": "markdown",
      "source": [
        "##Space and Time Complexity\n",
        "The overall space and time complexity of this code are both O(1)"
      ],
      "metadata": {
        "id": "VrXB9J6-TTDv"
      }
    }
  ]
}